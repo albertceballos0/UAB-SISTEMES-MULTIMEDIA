{
 "cells": [
  {
   "cell_type": "code",
   "execution_count": null,
   "metadata": {},
   "outputs": [],
   "source": [
    "import cv2\n",
    "from scipy.fftpack import dct, idct\n",
    "from PIL import Image,ImageDraw  # necessari tenir instalar llibreria PILLOW\n",
    "import numpy as np\n",
    "import metrikz\n",
    "import time\n",
    "import matplotlib.pyplot as plt\n",
    "\n",
    "\n",
    "quantization_matrix =  [[16.,11.,10.,16.,24.,40.,51.,61.],\n",
    "                        [12.,12.,14.,19.,26.,58.,60.,55.],\n",
    "                        [14.,13.,16.,24.,40.,57.,69.,56.],\n",
    "                        [14.,17.,22.,29.,51.,87.,80.,62.],\n",
    "                        [18.,22.,37.,56.,68.,109.,103.,77.],\n",
    "                        [24.,35.,55.,64.,81.,104.,113.,92.],\n",
    "                        [49.,64.,78.,87.,103.,121.,120.,101.],\n",
    "                        [72.,92.,95.,98.,112.,100.,103.,99.]]\n",
    "\n",
    "\n"
   ]
  },
  {
   "cell_type": "code",
   "execution_count": null,
   "metadata": {},
   "outputs": [],
   "source": []
  }
 ],
 "metadata": {
  "language_info": {
   "name": "python"
  }
 },
 "nbformat": 4,
 "nbformat_minor": 2
}
